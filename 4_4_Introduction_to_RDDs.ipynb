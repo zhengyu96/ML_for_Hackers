{
  "nbformat": 4,
  "nbformat_minor": 0,
  "metadata": {
    "colab": {
      "name": "4.4 Introduction to RDDs.ipynb",
      "provenance": [],
      "collapsed_sections": [],
      "toc_visible": true,
      "include_colab_link": true
    },
    "kernelspec": {
      "name": "python3",
      "display_name": "Python 3"
    }
  },
  "cells": [
    {
      "cell_type": "markdown",
      "metadata": {
        "id": "view-in-github",
        "colab_type": "text"
      },
      "source": [
        "<a href=\"https://colab.research.google.com/github/zhengyu96/ML_for_Hackers/blob/master/4_4_Introduction_to_RDDs.ipynb\" target=\"_parent\"><img src=\"https://colab.research.google.com/assets/colab-badge.svg\" alt=\"Open In Colab\"/></a>"
      ]
    },
    {
      "cell_type": "markdown",
      "metadata": {
        "id": "T2gyT_kRUm-J"
      },
      "source": [
        "## 4.4 Introduction to RDDs"
      ]
    },
    {
      "cell_type": "markdown",
      "metadata": {
        "id": "bcExQLyiU7hb"
      },
      "source": [
        "## 4.4.1 What are RDDs?\n",
        "\n",
        "Resilient Distributed Datasets (RDD) are the fundamental data structures of Spark. It is the data structure which Spark executes operations on. This means that even the dataframes introduced in the previous section, gets optimized and then converted into RDDs.\n",
        "\n",
        "Formally, an RDD is a read-only, partitioned collection of records. RDDs can be created through deterministic operations on either data on stable storage or other RDDs. RDD is a fault-tolerant collection of elements that can be operated on in parallel. (wikipedia)\n",
        "\n",
        "You can consider RDDs to be a logical model which allows data to be stored across distributed storage. They have the following unique characeristics:\n",
        "\n",
        "**Distributed Partition**\n",
        "\n",
        "Each dataset in the RDD is divided into logical partitions. These individual partitions can be computed on different nodes of the cluster.\n",
        "\n",
        "**Immutable**\n",
        "\n",
        "Once you have created an RDD, you are unable to make further changes to it. Hence by this defintion, they are purely \"read-only\".\n",
        "\n",
        "**Resilent**\n",
        "\n",
        "However the RDD is also resilent, this means that you will be able to re-create the RDD at any point of time the RDD fails. This is achieved because the RDD stores operations as a series of transformations.\n",
        "\n",
        "**Directed Acyclic Graphs (DAGs)**\n",
        "\n",
        "These operations are stored in a data structure known as a directed acyclic graph. The DAG stores all the operations that the RDD is expected to take, but it does not execute these operations immediately (known as eager execution). In fact operations are done in a lazy way (only when the results are required to be known are they executed). \n",
        "\n",
        "**Lazy execution**\n",
        "\n",
        "What lazy excution means is that the operations are not done until absolutely required (usually explicitly) by the user. The concept of lazy execution together with DAG allows you to recreate any RDD in the event of node failures.\n",
        "\n",
        "**Two types of operations**\n",
        "\n",
        "There are two types of operations in RDDs. Transformations and Actions. Transformations create a new RDD from an existing RDD, with the lineage of how the new RDD is created stored in the DAG. The original RDD is not changed because RDDs are immutable.\n",
        "\n",
        "However all transformations are lazy and they are not executed until an action operation is encountered (action operations returns the final RDD result of the DAG computations). This enables the spark optimizer (known as catalyst) to carry out various optimizations."
      ]
    },
    {
      "cell_type": "markdown",
      "metadata": {
        "id": "blkapTnwc-xL"
      },
      "source": [
        "## 4.4.2 RDD versus Dataframes\n"
      ]
    },
    {
      "cell_type": "markdown",
      "metadata": {
        "id": "0ROvVlytOOfd"
      },
      "source": [
        "So after the introduction of RDD and Dataframes, when should we use either?\n",
        "\n",
        "Consider the current situation where most of the time we are based at home, and at times we wish to go and grab some lunch from the local hawker centre. We can either have the instruction:\n",
        "\n",
        "\"Drive to xxx market and purchase a packet of chicken rice\"\n",
        "\n",
        "alternatively RDD instructions are more similar to:\n",
        "\n",
        "\"Walk downstairs to the car, open the car door, get in, etc etc\"\n",
        "\n",
        "The former is typically considered as \"higher level\", telling spark what to do and typically we normally use that form of language. The latter tends towards language considered \"low level\" and is towards telling spark how to carry out a certain action.\n",
        "\n",
        "The usage of dataframes are typically preferred as you will gain access to the inherent optimizations. However there are some cases where such high level controls are unavailable for your dataset. Examples of such scenarios are typiclly when data is unstructured (media streams or text streams). Thus it is crucial to have the ability to utilize RDDs if more control is required."
      ]
    },
    {
      "cell_type": "markdown",
      "metadata": {
        "id": "GuF6LL8eB0hg"
      },
      "source": [
        "### 4.4.3 How do we create an RDD?"
      ]
    },
    {
      "cell_type": "markdown",
      "metadata": {
        "id": "_rNvxRk9DgZF"
      },
      "source": [
        "There are three ways RDDs can be created. They are the following:\n",
        "1.   Parallelizing an existing variable.\n",
        "2.   Creating RDD from existing RDDs\n",
        "3.   Referencing a dataset in an external storage system\n",
        "\n",
        "Let's carry out these ways one at a time.\n",
        "\n",
        "First, install pyspark and start a spark session."
      ]
    },
    {
      "cell_type": "code",
      "metadata": {
        "id": "DSKehkLM5pbV",
        "outputId": "cee71b99-fe2d-4117-cd2e-93d014a28239",
        "colab": {
          "base_uri": "https://localhost:8080/",
          "height": 238
        }
      },
      "source": [
        ""
      ],
      "execution_count": null,
      "outputs": [
        {
          "output_type": "stream",
          "text": [
            "Collecting pyspark\n",
            "\u001b[?25l  Downloading https://files.pythonhosted.org/packages/f0/26/198fc8c0b98580f617cb03cb298c6056587b8f0447e20fa40c5b634ced77/pyspark-3.0.1.tar.gz (204.2MB)\n",
            "\u001b[K     |████████████████████████████████| 204.2MB 60kB/s \n",
            "\u001b[?25hCollecting py4j==0.10.9\n",
            "\u001b[?25l  Downloading https://files.pythonhosted.org/packages/9e/b6/6a4fb90cd235dc8e265a6a2067f2a2c99f0d91787f06aca4bcf7c23f3f80/py4j-0.10.9-py2.py3-none-any.whl (198kB)\n",
            "\u001b[K     |████████████████████████████████| 204kB 35.3MB/s \n",
            "\u001b[?25hBuilding wheels for collected packages: pyspark\n",
            "  Building wheel for pyspark (setup.py) ... \u001b[?25l\u001b[?25hdone\n",
            "  Created wheel for pyspark: filename=pyspark-3.0.1-py2.py3-none-any.whl size=204612243 sha256=88ff63b636a358dd7f7b6b94fae161e6be293551dda13c2d578faeca8fbc939c\n",
            "  Stored in directory: /root/.cache/pip/wheels/5e/bd/07/031766ca628adec8435bb40f0bd83bb676ce65ff4007f8e73f\n",
            "Successfully built pyspark\n",
            "Installing collected packages: py4j, pyspark\n",
            "Successfully installed py4j-0.10.9 pyspark-3.0.1\n"
          ],
          "name": "stdout"
        }
      ]
    },
    {
      "cell_type": "code",
      "metadata": {
        "id": "FHN_P7Yo5xdt"
      },
      "source": [
        ""
      ],
      "execution_count": null,
      "outputs": []
    },
    {
      "cell_type": "markdown",
      "metadata": {
        "id": "qAdcvu1jIsvJ"
      },
      "source": [
        "##### 4.4.3.1 Method 1: Creating an RDD from list"
      ]
    },
    {
      "cell_type": "markdown",
      "metadata": {
        "id": "FZuso9_871HY"
      },
      "source": [
        "**Example 1: Build a RDD from a list.**"
      ]
    },
    {
      "cell_type": "code",
      "metadata": {
        "id": "RSGWydWzHkc0"
      },
      "source": [
        ""
      ],
      "execution_count": null,
      "outputs": []
    },
    {
      "cell_type": "markdown",
      "metadata": {
        "id": "vq4ii3hB76qr"
      },
      "source": [
        "The variable, rdd_list is a parallel collection RDD, and not a list of numbers. So if you are to try to show the contents of the variable rdd_list, you get the following:"
      ]
    },
    {
      "cell_type": "code",
      "metadata": {
        "id": "R3jQqIJF75Us",
        "outputId": "b084f85f-85bb-4837-e56e-fa896dbdbdfb",
        "colab": {
          "base_uri": "https://localhost:8080/",
          "height": 34
        }
      },
      "source": [
        ""
      ],
      "execution_count": null,
      "outputs": [
        {
          "output_type": "execute_result",
          "data": {
            "text/plain": [
              "ParallelCollectionRDD[0] at readRDDFromFile at PythonRDD.scala:262"
            ]
          },
          "metadata": {
            "tags": []
          },
          "execution_count": 4
        }
      ]
    },
    {
      "cell_type": "markdown",
      "metadata": {
        "id": "q8PZtrJt8EHW"
      },
      "source": [
        "We can obtain the number of partitions the RDD is split into, and im this scenario for Google Colab, the number of partitions is two."
      ]
    },
    {
      "cell_type": "code",
      "metadata": {
        "id": "A68HVIVA7CrS",
        "outputId": "93c9c3a0-2a23-44a3-d471-b5259bc91c1f",
        "colab": {
          "base_uri": "https://localhost:8080/",
          "height": 34
        }
      },
      "source": [
        ""
      ],
      "execution_count": null,
      "outputs": [
        {
          "output_type": "execute_result",
          "data": {
            "text/plain": [
              "2"
            ]
          },
          "metadata": {
            "tags": []
          },
          "execution_count": 5
        }
      ]
    },
    {
      "cell_type": "markdown",
      "metadata": {
        "id": "GckhQd4L8ICT"
      },
      "source": [
        "However, if you want to know the exect contents of the RDD, you need to carry out an Action operation, and in this case, the command is collect(). The collect() command allows us to execute the DAG commands associated with the RDD and outputs the result."
      ]
    },
    {
      "cell_type": "code",
      "metadata": {
        "id": "OrheLweC7aW8",
        "outputId": "c7b261a0-6e3d-4085-ffa7-16c7357ad9d1",
        "colab": {
          "base_uri": "https://localhost:8080/",
          "height": 34
        }
      },
      "source": [
        ""
      ],
      "execution_count": null,
      "outputs": [
        {
          "output_type": "execute_result",
          "data": {
            "text/plain": [
              "[1, 2, 3, 4, 5]"
            ]
          },
          "metadata": {
            "tags": []
          },
          "execution_count": 6
        }
      ]
    },
    {
      "cell_type": "markdown",
      "metadata": {
        "id": "MFqmRlu99PMS"
      },
      "source": [
        "Similar to the show function of the dataframe, you can use the take function to take the first n rows of the RDD."
      ]
    },
    {
      "cell_type": "code",
      "metadata": {
        "id": "kY8nLL7J9HWu",
        "outputId": "b15ae9de-c174-423a-b241-0cffb11e19d8",
        "colab": {
          "base_uri": "https://localhost:8080/",
          "height": 34
        }
      },
      "source": [
        ""
      ],
      "execution_count": null,
      "outputs": [
        {
          "output_type": "execute_result",
          "data": {
            "text/plain": [
              "[1, 2, 3]"
            ]
          },
          "metadata": {
            "tags": []
          },
          "execution_count": 9
        }
      ]
    },
    {
      "cell_type": "code",
      "metadata": {
        "id": "rmY0b-z69M1H",
        "outputId": "85a8c805-be8c-475f-8e62-84d7144a37be",
        "colab": {
          "base_uri": "https://localhost:8080/",
          "height": 34
        }
      },
      "source": [
        ""
      ],
      "execution_count": null,
      "outputs": [
        {
          "output_type": "execute_result",
          "data": {
            "text/plain": [
              "[1, 2, 3, 4, 5]"
            ]
          },
          "metadata": {
            "tags": []
          },
          "execution_count": 10
        }
      ]
    },
    {
      "cell_type": "markdown",
      "metadata": {
        "id": "Upx-FA-SI7GN"
      },
      "source": [
        "**Example 2: Build a RDD from a tuple.**"
      ]
    },
    {
      "cell_type": "code",
      "metadata": {
        "id": "HwpVFhV2MBoK"
      },
      "source": [
        ""
      ],
      "execution_count": null,
      "outputs": []
    },
    {
      "cell_type": "code",
      "metadata": {
        "id": "UiAhBHOIOJwS",
        "outputId": "ccf28f0a-5318-4ca0-e426-cfcb78f007f5",
        "colab": {
          "base_uri": "https://localhost:8080/",
          "height": 34
        }
      },
      "source": [
        ""
      ],
      "execution_count": null,
      "outputs": [
        {
          "output_type": "execute_result",
          "data": {
            "text/plain": [
              "ParallelCollectionRDD[7] at readRDDFromFile at PythonRDD.scala:262"
            ]
          },
          "metadata": {
            "tags": []
          },
          "execution_count": 13
        }
      ]
    },
    {
      "cell_type": "code",
      "metadata": {
        "id": "IE-SuGMbOM4i",
        "outputId": "57df5eae-3cbf-42c8-844d-bf940541d9ba",
        "colab": {
          "base_uri": "https://localhost:8080/",
          "height": 34
        }
      },
      "source": [
        ""
      ],
      "execution_count": null,
      "outputs": [
        {
          "output_type": "execute_result",
          "data": {
            "text/plain": [
              "2"
            ]
          },
          "metadata": {
            "tags": []
          },
          "execution_count": 14
        }
      ]
    },
    {
      "cell_type": "code",
      "metadata": {
        "id": "VSPNPupFOQTf",
        "outputId": "05089182-e9a1-4806-9664-72901191c0cb",
        "colab": {
          "base_uri": "https://localhost:8080/",
          "height": 34
        }
      },
      "source": [
        ""
      ],
      "execution_count": null,
      "outputs": [
        {
          "output_type": "execute_result",
          "data": {
            "text/plain": [
              "[(1, 2), (3, 4), (3, 6), (4, 5)]"
            ]
          },
          "metadata": {
            "tags": []
          },
          "execution_count": 15
        }
      ]
    },
    {
      "cell_type": "code",
      "metadata": {
        "id": "yJaTm3149axl",
        "outputId": "ae32f07d-a55e-42ed-c00c-95a5b6cb47fb",
        "colab": {
          "base_uri": "https://localhost:8080/",
          "height": 34
        }
      },
      "source": [
        ""
      ],
      "execution_count": null,
      "outputs": [
        {
          "output_type": "execute_result",
          "data": {
            "text/plain": [
              "[(1, 2), (3, 4), (3, 6), (4, 5)]"
            ]
          },
          "metadata": {
            "tags": []
          },
          "execution_count": 16
        }
      ]
    },
    {
      "cell_type": "markdown",
      "metadata": {
        "id": "Q0fGMHZyOaHp"
      },
      "source": [
        "**Example 3: Build a RDD from a file**"
      ]
    },
    {
      "cell_type": "code",
      "metadata": {
        "id": "P77KIp8WP6J_"
      },
      "source": [
        ""
      ],
      "execution_count": null,
      "outputs": []
    },
    {
      "cell_type": "code",
      "metadata": {
        "id": "tKfyOmmUP_Mu",
        "outputId": "ada3d5e0-bd65-4c5c-a818-e9642a081b60",
        "colab": {
          "base_uri": "https://localhost:8080/",
          "height": 34
        }
      },
      "source": [
        ""
      ],
      "execution_count": null,
      "outputs": [
        {
          "output_type": "execute_result",
          "data": {
            "text/plain": [
              "APPL.csv MapPartitionsRDD[29] at textFile at NativeMethodAccessorImpl.java:0"
            ]
          },
          "metadata": {
            "tags": []
          },
          "execution_count": 22
        }
      ]
    },
    {
      "cell_type": "code",
      "metadata": {
        "id": "Qg5gRXa3QzWf",
        "outputId": "ca642161-d263-4968-ee14-16fdfef57919",
        "colab": {
          "base_uri": "https://localhost:8080/",
          "height": 34
        }
      },
      "source": [
        ""
      ],
      "execution_count": null,
      "outputs": [
        {
          "output_type": "execute_result",
          "data": {
            "text/plain": [
              "MapPartitionsRDD[44] at javaToPython at NativeMethodAccessorImpl.java:0"
            ]
          },
          "metadata": {
            "tags": []
          },
          "execution_count": 23
        }
      ]
    },
    {
      "cell_type": "code",
      "metadata": {
        "id": "lRpBTXMgCXuL",
        "outputId": "ea74a699-dd34-47fb-aec9-73387d9d877b",
        "colab": {
          "base_uri": "https://localhost:8080/",
          "height": 102
        }
      },
      "source": [
        ""
      ],
      "execution_count": null,
      "outputs": [
        {
          "output_type": "execute_result",
          "data": {
            "text/plain": [
              "['Date, Close/Last, Volume, Open, High, Low',\n",
              " '02/28/2020, $273.36, 106721200, $257.26, $278.41, $256.37',\n",
              " '02/27/2020, $273.52, 80151380, $281.1, $286, $272.96',\n",
              " '02/26/2020, $292.65, 49678430, $286.53, $297.88, $286.5',\n",
              " '02/25/2020, $288.08, 57668360, $300.95, $302.53, $286.13']"
            ]
          },
          "metadata": {
            "tags": []
          },
          "execution_count": 32
        }
      ]
    },
    {
      "cell_type": "code",
      "metadata": {
        "id": "3z9slId_-Kdx",
        "outputId": "6af2c8b0-2303-4954-8dfb-304a3fcab6bc",
        "colab": {
          "base_uri": "https://localhost:8080/",
          "height": 102
        }
      },
      "source": [
        ""
      ],
      "execution_count": null,
      "outputs": [
        {
          "output_type": "execute_result",
          "data": {
            "text/plain": [
              "[Row(_c0='Date', _c1=' Close/Last', _c2=' Volume', _c3=' Open', _c4=' High', _c5=' Low'),\n",
              " Row(_c0='02/28/2020', _c1=' $273.36', _c2=' 106721200', _c3=' $257.26', _c4=' $278.41', _c5=' $256.37'),\n",
              " Row(_c0='02/27/2020', _c1=' $273.52', _c2=' 80151380', _c3=' $281.1', _c4=' $286', _c5=' $272.96'),\n",
              " Row(_c0='02/26/2020', _c1=' $292.65', _c2=' 49678430', _c3=' $286.53', _c4=' $297.88', _c5=' $286.5'),\n",
              " Row(_c0='02/25/2020', _c1=' $288.08', _c2=' 57668360', _c3=' $300.95', _c4=' $302.53', _c5=' $286.13')]"
            ]
          },
          "metadata": {
            "tags": []
          },
          "execution_count": 26
        }
      ]
    },
    {
      "cell_type": "code",
      "metadata": {
        "id": "AYcbCWq9C9oM",
        "outputId": "2309a446-d8b8-42b3-ee9e-75b9db0af98e",
        "colab": {
          "base_uri": "https://localhost:8080/",
          "height": 34
        }
      },
      "source": [
        ""
      ],
      "execution_count": null,
      "outputs": [
        {
          "output_type": "execute_result",
          "data": {
            "text/plain": [
              "pyspark.rdd.RDD"
            ]
          },
          "metadata": {
            "tags": []
          },
          "execution_count": 35
        }
      ]
    },
    {
      "cell_type": "markdown",
      "metadata": {
        "id": "tOMjSIjvBSyX"
      },
      "source": [
        "#### 4.4.4 Converting RDD to a dataframe\n",
        "\n",
        "There are times where you may want to use RDD operations on tabular data, or after working on your RDD you may want to convert it back to a dataframe. We will show how that can be done here:"
      ]
    },
    {
      "cell_type": "code",
      "metadata": {
        "id": "raUA1LAHB9Ei",
        "outputId": "3958ffbc-cd7d-4bcc-c45e-badcb5a62a5b",
        "colab": {
          "base_uri": "https://localhost:8080/",
          "height": 163
        }
      },
      "source": [
        ""
      ],
      "execution_count": null,
      "outputs": [
        {
          "output_type": "error",
          "ename": "NameError",
          "evalue": "ignored",
          "traceback": [
            "\u001b[0;31m---------------------------------------------------------------------------\u001b[0m",
            "\u001b[0;31mNameError\u001b[0m                                 Traceback (most recent call last)",
            "\u001b[0;32m<ipython-input-1-64f03961581a>\u001b[0m in \u001b[0;36m<module>\u001b[0;34m()\u001b[0m\n\u001b[0;32m----> 1\u001b[0;31m \u001b[0mrdd_table_file1\u001b[0m \u001b[0;34m=\u001b[0m \u001b[0mrdd_file1\u001b[0m\u001b[0;34m.\u001b[0m\u001b[0mmap\u001b[0m\u001b[0;34m(\u001b[0m\u001b[0;32mlambda\u001b[0m \u001b[0mrow\u001b[0m\u001b[0;34m:\u001b[0m\u001b[0mrow\u001b[0m\u001b[0;34m.\u001b[0m\u001b[0msplit\u001b[0m\u001b[0;34m(\u001b[0m\u001b[0;34m\",\"\u001b[0m\u001b[0;34m)\u001b[0m\u001b[0;34m)\u001b[0m\u001b[0;34m\u001b[0m\u001b[0;34m\u001b[0m\u001b[0m\n\u001b[0m",
            "\u001b[0;31mNameError\u001b[0m: name 'rdd_file1' is not defined"
          ]
        }
      ]
    },
    {
      "cell_type": "code",
      "metadata": {
        "id": "fhhYpTUrCDTh",
        "outputId": "971fada5-d5f2-497f-8038-637204c21662",
        "colab": {
          "base_uri": "https://localhost:8080/",
          "height": 163
        }
      },
      "source": [
        ""
      ],
      "execution_count": null,
      "outputs": [
        {
          "output_type": "error",
          "ename": "NameError",
          "evalue": "ignored",
          "traceback": [
            "\u001b[0;31m---------------------------------------------------------------------------\u001b[0m",
            "\u001b[0;31mNameError\u001b[0m                                 Traceback (most recent call last)",
            "\u001b[0;32m<ipython-input-2-4d1e8b5971f5>\u001b[0m in \u001b[0;36m<module>\u001b[0;34m()\u001b[0m\n\u001b[0;32m----> 1\u001b[0;31m \u001b[0mrdd_table_file1\u001b[0m\u001b[0;34m.\u001b[0m\u001b[0mtake\u001b[0m\u001b[0;34m(\u001b[0m\u001b[0;36m5\u001b[0m\u001b[0;34m)\u001b[0m\u001b[0;34m\u001b[0m\u001b[0;34m\u001b[0m\u001b[0m\n\u001b[0m",
            "\u001b[0;31mNameError\u001b[0m: name 'rdd_table_file1' is not defined"
          ]
        }
      ]
    },
    {
      "cell_type": "code",
      "metadata": {
        "id": "Sj7OkQJ-DJlu"
      },
      "source": [
        ""
      ],
      "execution_count": null,
      "outputs": []
    },
    {
      "cell_type": "markdown",
      "metadata": {
        "id": "kht-hBgHDv63"
      },
      "source": [
        "Unfortunately the header appears in the second row of the dataframe. Hence you have to remove the header first."
      ]
    },
    {
      "cell_type": "code",
      "metadata": {
        "id": "IEM0koMVDunl"
      },
      "source": [
        ""
      ],
      "execution_count": null,
      "outputs": []
    },
    {
      "cell_type": "code",
      "metadata": {
        "id": "HzW9aVO7D-8N"
      },
      "source": [
        ""
      ],
      "execution_count": null,
      "outputs": []
    },
    {
      "cell_type": "markdown",
      "metadata": {
        "id": "XhgBIEG8EqYW"
      },
      "source": [
        "You notice that there are some dollar signs there, which you may want to remove them for easier processing downstream. It is slightly easier to remove them at the RDD phase, which we do in the following."
      ]
    },
    {
      "cell_type": "code",
      "metadata": {
        "id": "5pDKwc2MEw7B"
      },
      "source": [
        ""
      ],
      "execution_count": null,
      "outputs": []
    },
    {
      "cell_type": "code",
      "metadata": {
        "id": "m6fIdzsBN5Mh"
      },
      "source": [
        ""
      ],
      "execution_count": null,
      "outputs": []
    },
    {
      "cell_type": "markdown",
      "metadata": {
        "id": "S6IuX4BYOO4u"
      },
      "source": [
        "However note that the columns Close/Last, Open, High, Low are of type String and needs to be converted to type float. "
      ]
    },
    {
      "cell_type": "code",
      "metadata": {
        "id": "OppqAA2WOi_v"
      },
      "source": [
        ""
      ],
      "execution_count": null,
      "outputs": []
    },
    {
      "cell_type": "code",
      "metadata": {
        "id": "Sv5StoNHONbi"
      },
      "source": [
        ""
      ],
      "execution_count": null,
      "outputs": []
    },
    {
      "cell_type": "markdown",
      "metadata": {
        "id": "nzlHd-IGLC9z"
      },
      "source": [
        "Let's try to find the average closing price of apple per month."
      ]
    },
    {
      "cell_type": "code",
      "metadata": {
        "id": "v4QtNfYBQ3YJ"
      },
      "source": [
        ""
      ],
      "execution_count": null,
      "outputs": []
    },
    {
      "cell_type": "code",
      "metadata": {
        "id": "sdmV4sp7WGZF"
      },
      "source": [
        ""
      ],
      "execution_count": null,
      "outputs": []
    },
    {
      "cell_type": "code",
      "metadata": {
        "id": "4J2LDvVzQgB8"
      },
      "source": [
        ""
      ],
      "execution_count": null,
      "outputs": []
    },
    {
      "cell_type": "code",
      "metadata": {
        "id": "timTUlSjLKpe"
      },
      "source": [
        ""
      ],
      "execution_count": null,
      "outputs": []
    },
    {
      "cell_type": "code",
      "metadata": {
        "id": "kdFbuCcBJ8rS"
      },
      "source": [
        ""
      ],
      "execution_count": null,
      "outputs": []
    },
    {
      "cell_type": "markdown",
      "metadata": {
        "id": "fLFoyMAaXSUI"
      },
      "source": [
        "### 4.4.5 Pair-ed RDDs"
      ]
    },
    {
      "cell_type": "markdown",
      "metadata": {
        "id": "CKAlOydCeXUH"
      },
      "source": [
        "One of the main advantages of RDDs is the ease of working with data that is unstructured. Let us illustrate this with a simple example. Recall we created an RDD tuple earlier"
      ]
    },
    {
      "cell_type": "code",
      "metadata": {
        "id": "ki9jFgulXRm6",
        "outputId": "75b409b8-af4e-4047-d38a-dcb66b725cd1",
        "colab": {
          "base_uri": "https://localhost:8080/",
          "height": 34
        }
      },
      "source": [
        ""
      ],
      "execution_count": null,
      "outputs": [
        {
          "output_type": "execute_result",
          "data": {
            "text/plain": [
              "[(1, 2), (3, 4), (3, 6), (4, 5)]"
            ]
          },
          "metadata": {
            "tags": []
          },
          "execution_count": 158
        }
      ]
    },
    {
      "cell_type": "markdown",
      "metadata": {
        "id": "PM8UEBgGfDbc"
      },
      "source": [
        "##### 4.4.5.1 Transformation Operations\n",
        "\n",
        "This is typically known as a paired RDD, and in this case the first item is known as the \"key\" and the second known as the \"value\". This is much like a dictionary, but in this case the keys need not be unique.\n",
        "\n",
        "**keys()**\n",
        "\n",
        "We can find what the keys are:\n",
        "\n"
      ]
    },
    {
      "cell_type": "code",
      "metadata": {
        "id": "UG-ZqQ4JnY9i",
        "outputId": "911e5f90-efa6-40c5-8a3f-0270c174679b",
        "colab": {
          "base_uri": "https://localhost:8080/",
          "height": 34
        }
      },
      "source": [
        ""
      ],
      "execution_count": null,
      "outputs": [
        {
          "output_type": "execute_result",
          "data": {
            "text/plain": [
              "[1, 3, 3, 4]"
            ]
          },
          "metadata": {
            "tags": []
          },
          "execution_count": 178
        }
      ]
    },
    {
      "cell_type": "markdown",
      "metadata": {
        "id": "Vvr84nVOnZLZ"
      },
      "source": [
        "**reduceByKey()**\n",
        "\n",
        "Let's use a trival example, where we wish to count the number of times individual keys occur. The first item is the key, and assume that the second item is the current count of the number of times the key has already occured.\n",
        "\n",
        "The command then to count the times the key occurs would be to use a function known as:"
      ]
    },
    {
      "cell_type": "code",
      "metadata": {
        "id": "CMn5Q2IPNhzp",
        "outputId": "ba2ad4ff-4309-41e5-af99-2de40b37cbd6",
        "colab": {
          "base_uri": "https://localhost:8080/",
          "height": 68
        }
      },
      "source": [
        ""
      ],
      "execution_count": null,
      "outputs": [
        {
          "output_type": "stream",
          "text": [
            "Key 4 has 5 Counts\n",
            "Key 1 has 2 Counts\n",
            "Key 3 has 10 Counts\n"
          ],
          "name": "stdout"
        }
      ]
    },
    {
      "cell_type": "markdown",
      "metadata": {
        "id": "XZZPqC-4pRpp"
      },
      "source": [
        "**sortBy**\n",
        "\n",
        "If you wish to sort the rdd by a certain count order, you can use the sortby together with a lambda function."
      ]
    },
    {
      "cell_type": "code",
      "metadata": {
        "id": "yTfsimRlgpl0",
        "outputId": "726c9e10-5c50-4da7-c912-85d62e2d09e1",
        "colab": {
          "base_uri": "https://localhost:8080/",
          "height": 34
        }
      },
      "source": [
        ""
      ],
      "execution_count": null,
      "outputs": [
        {
          "output_type": "execute_result",
          "data": {
            "text/plain": [
              "[(3, 10), (4, 5), (1, 2)]"
            ]
          },
          "metadata": {
            "tags": []
          },
          "execution_count": 169
        }
      ]
    },
    {
      "cell_type": "markdown",
      "metadata": {
        "id": "jsv3m6k6h0CI"
      },
      "source": [
        "However you will be able to appreciate the flexibility of RDDs when working with unstructured data such as text. For instance, we have the following sentence:"
      ]
    },
    {
      "cell_type": "code",
      "metadata": {
        "id": "rfaD25sMUzaT"
      },
      "source": [
        ""
      ],
      "execution_count": null,
      "outputs": []
    },
    {
      "cell_type": "code",
      "metadata": {
        "id": "t882hX8LVJ9N"
      },
      "source": [
        ""
      ],
      "execution_count": null,
      "outputs": []
    },
    {
      "cell_type": "code",
      "metadata": {
        "id": "Meok23LpiMsy",
        "outputId": "e9428741-b831-406e-ce7b-aacba8866ebf",
        "colab": {
          "base_uri": "https://localhost:8080/",
          "height": 153
        }
      },
      "source": [
        ""
      ],
      "execution_count": null,
      "outputs": [
        {
          "output_type": "execute_result",
          "data": {
            "text/plain": [
              "[('the', 2),\n",
              " ('quick', 1),\n",
              " ('brown', 1),\n",
              " ('fox', 1),\n",
              " ('jumps', 1),\n",
              " ('over', 1),\n",
              " ('lazy', 1),\n",
              " ('dog', 1)]"
            ]
          },
          "metadata": {
            "tags": []
          },
          "execution_count": 176
        }
      ]
    },
    {
      "cell_type": "markdown",
      "metadata": {
        "id": "4I2HYIFBoujx"
      },
      "source": [
        "#### 4.4.5.2 Action Operations"
      ]
    },
    {
      "cell_type": "markdown",
      "metadata": {
        "id": "1UM64XVCnysk"
      },
      "source": [
        "**countByKey()**\n",
        "\n",
        "We can count how many unique key-value pairs there are in the RDD:"
      ]
    },
    {
      "cell_type": "code",
      "metadata": {
        "id": "axlX9uvTnr2L",
        "outputId": "7ff1e0b4-f39a-4cd9-aec4-ecdbfa6a5c03",
        "colab": {
          "base_uri": "https://localhost:8080/",
          "height": 34
        }
      },
      "source": [
        ""
      ],
      "execution_count": null,
      "outputs": [
        {
          "output_type": "execute_result",
          "data": {
            "text/plain": [
              "defaultdict(int, {1: 1, 3: 2, 4: 1})"
            ]
          },
          "metadata": {
            "tags": []
          },
          "execution_count": 181
        }
      ]
    },
    {
      "cell_type": "markdown",
      "metadata": {
        "id": "UA3oRvg4oF1i"
      },
      "source": [
        "**lookup()**\n",
        "\n",
        "If you would like to find out the values of all key-value pairs of a particular key, you can lookup with the following command:"
      ]
    },
    {
      "cell_type": "code",
      "metadata": {
        "id": "r_QsUbInoByf",
        "outputId": "fc28e47c-69db-4b78-aed0-27605f3d49f8",
        "colab": {
          "base_uri": "https://localhost:8080/",
          "height": 34
        }
      },
      "source": [
        ""
      ],
      "execution_count": null,
      "outputs": [
        {
          "output_type": "execute_result",
          "data": {
            "text/plain": [
              "[4, 6]"
            ]
          },
          "metadata": {
            "tags": []
          },
          "execution_count": 182
        }
      ]
    },
    {
      "cell_type": "code",
      "metadata": {
        "id": "z9X5ARX6Vv0W",
        "outputId": "afa8339c-6ec7-4eef-f548-456d53de763b",
        "colab": {
          "base_uri": "https://localhost:8080/",
          "height": 54
        }
      },
      "source": [
        ""
      ],
      "execution_count": null,
      "outputs": [
        {
          "output_type": "execute_result",
          "data": {
            "text/plain": [
              "b'(2) PythonRDD[360] at collect at <ipython-input-160-3b7d3e4fa4b3>:4 []\\n |  MapPartitionsRDD[359] at mapPartitions at PythonRDD.scala:133 []\\n |  ShuffledRDD[358] at partitionBy at NativeMethodAccessorImpl.java:0 []\\n +-(2) PairwiseRDD[357] at reduceByKey at <ipython-input-160-3b7d3e4fa4b3>:1 []\\n    |  PythonRDD[356] at reduceByKey at <ipython-input-160-3b7d3e4fa4b3>:1 []\\n    |  ParallelCollectionRDD[7] at readRDDFromFile at PythonRDD.scala:262 []'"
            ]
          },
          "metadata": {
            "tags": []
          },
          "execution_count": 171
        }
      ]
    }
  ]
}